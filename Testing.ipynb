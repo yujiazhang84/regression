{
 "cells": [
  {
   "cell_type": "markdown",
   "metadata": {},
   "source": [
    "# Testing the accuracy of the fit"
   ]
  },
  {
   "cell_type": "code",
   "execution_count": 1,
   "metadata": {
    "collapsed": false
   },
   "outputs": [],
   "source": [
    "%%capture\n",
    "%run FittingExercise.ipynb"
   ]
  },
  {
   "cell_type": "code",
   "execution_count": 2,
   "metadata": {
    "collapsed": false
   },
   "outputs": [
    {
     "name": "stdout",
     "output_type": "stream",
     "text": [
      "starting_guess = ParameterSet(logA=6.0, Ea=45.0, dH=-10.0, dS=-50.0)\n",
      "optimized_parameters = ParameterSet(logA=7.5375227812900878, Ea=52.776270990593282, dH=-11.531522898616284, dS=-37.349532746201547)\n",
      "standard_errors = ParameterSet(logA=0.43279534968837052, Ea=2.540998743700754, dH=0.79049443823588528, dS=2.512902831838947)\n",
      "How many 'standard errors' from the true value was the optimized value?:\n",
      "logA 1.47303519261\n",
      "Ea 1.48613650438\n",
      "dH 1.85766911234\n",
      "dS 1.85063552592\n"
     ]
    }
   ],
   "source": [
    "true_params = ParameterSet(6.9, # logA in mol/L/s\n",
    "                49., # Ea kJ/mol\n",
    "                -13., # ∆H kJ/mol\n",
    "                -42.# ∆S J/mol/K\n",
    "                )\n",
    "\n",
    "print(\"starting_guess =\", starting_guess)\n",
    "print(\"optimized_parameters =\", optimized_parameters)\n",
    "print(\"standard_errors =\",standard_errors)\n",
    "\n",
    "print(\"How many 'standard errors' from the true value was the optimized value?:\")\n",
    "discrepancy = (array(optimized_parameters) - array(true_params)) / array(standard_errors)\n",
    "discrepancy = ParameterSet(*discrepancy)\n",
    "for key,value in discrepancy._asdict().items():\n",
    "    print(key,value)"
   ]
  },
  {
   "cell_type": "markdown",
   "metadata": {},
   "source": [
    "Use Pandas to quickly format the output nicely in a table"
   ]
  },
  {
   "cell_type": "code",
   "execution_count": 3,
   "metadata": {
    "collapsed": false
   },
   "outputs": [
    {
     "data": {
      "text/html": [
       "<div>\n",
       "<table border=\"1\" class=\"dataframe\">\n",
       "  <thead>\n",
       "    <tr style=\"text-align: right;\">\n",
       "      <th></th>\n",
       "      <th>logA</th>\n",
       "      <th>Ea</th>\n",
       "      <th>dH</th>\n",
       "      <th>dS</th>\n",
       "    </tr>\n",
       "  </thead>\n",
       "  <tbody>\n",
       "    <tr>\n",
       "      <th>starting_guess</th>\n",
       "      <td>6.000000</td>\n",
       "      <td>45.000000</td>\n",
       "      <td>-10.000000</td>\n",
       "      <td>-50.000000</td>\n",
       "    </tr>\n",
       "    <tr>\n",
       "      <th>true_params</th>\n",
       "      <td>6.900000</td>\n",
       "      <td>49.000000</td>\n",
       "      <td>-13.000000</td>\n",
       "      <td>-42.000000</td>\n",
       "    </tr>\n",
       "    <tr>\n",
       "      <th>optimized_parameters</th>\n",
       "      <td>7.537523</td>\n",
       "      <td>52.776271</td>\n",
       "      <td>-11.531523</td>\n",
       "      <td>-37.349533</td>\n",
       "    </tr>\n",
       "    <tr>\n",
       "      <th>standard_errors</th>\n",
       "      <td>0.432795</td>\n",
       "      <td>2.540999</td>\n",
       "      <td>0.790494</td>\n",
       "      <td>2.512903</td>\n",
       "    </tr>\n",
       "    <tr>\n",
       "      <th>discrepancy</th>\n",
       "      <td>1.473035</td>\n",
       "      <td>1.486137</td>\n",
       "      <td>1.857669</td>\n",
       "      <td>1.850636</td>\n",
       "    </tr>\n",
       "  </tbody>\n",
       "</table>\n",
       "</div>"
      ],
      "text/plain": [
       "                          logA         Ea         dH         dS\n",
       "starting_guess        6.000000  45.000000 -10.000000 -50.000000\n",
       "true_params           6.900000  49.000000 -13.000000 -42.000000\n",
       "optimized_parameters  7.537523  52.776271 -11.531523 -37.349533\n",
       "standard_errors       0.432795   2.540999   0.790494   2.512903\n",
       "discrepancy           1.473035   1.486137   1.857669   1.850636"
      ]
     },
     "execution_count": 3,
     "metadata": {},
     "output_type": "execute_result"
    }
   ],
   "source": [
    "import pandas as pd\n",
    "pd.DataFrame([starting_guess,true_params,optimized_parameters,standard_errors,discrepancy],\n",
    "             columns=starting_guess._fields,\n",
    "             index=['starting_guess','true_params','optimized_parameters','standard_errors','discrepancy'])"
   ]
  },
  {
   "cell_type": "markdown",
   "metadata": {},
   "source": [
    "Hopefully the discrepancies (actual error divided by reported standard error $\\sigma$) are all within $\\pm$ 2 (i.e. $|{\\epsilon}|<2\\sigma$)"
   ]
  },
  {
   "cell_type": "code",
   "execution_count": null,
   "metadata": {
    "collapsed": true
   },
   "outputs": [],
   "source": []
  }
 ],
 "metadata": {
  "anaconda-cloud": {},
  "kernelspec": {
   "display_name": "Python [conda env:py3]",
   "language": "python",
   "name": "conda-env-py3-py"
  },
  "language_info": {
   "codemirror_mode": {
    "name": "ipython",
    "version": 3
   },
   "file_extension": ".py",
   "mimetype": "text/x-python",
   "name": "python",
   "nbconvert_exporter": "python",
   "pygments_lexer": "ipython3",
   "version": "3.5.2"
  }
 },
 "nbformat": 4,
 "nbformat_minor": 1
}
