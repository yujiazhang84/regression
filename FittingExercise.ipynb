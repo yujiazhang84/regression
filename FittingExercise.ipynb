{
 "cells": [
  {
   "cell_type": "markdown",
   "metadata": {},
   "source": [
    "# Fitting of experimental chemical kinetics data\n",
    "You perform some experiments in a batch reactor to determine the rate expression and thermochemistry for the reversible chemical reaction\n",
    "$\\require{mhchem}$\n",
    "$$\\ce{A <=> B}$$\n",
    "\n",
    "Recall from thermodynamics that \n",
    "$\\Delta G = \\Delta H - T \\Delta S$\n",
    "and $\\Delta G = R T \\ln K_a$\n",
    "where $K_a$ is the activity-based equilibrium constant of the chemical reaction, $R$ is the molar gas constant (8.314 J/mol/K) and $T$ is the temperature in Kelvin.\n",
    "\n",
    "If we assume ideal solution (unit fugacity coefficients) then $K_a = K_c$ giving us the concentration-based equilibrium constant $K_c$. \n",
    "From kinetics you recall\n",
    "$K_c = \\frac{k_f}{k_r}$ \n",
    "where \n",
    "$k_f$ is the forward rate coefficient and $k_r$ is the reverse rate coefficient.\n",
    "i.e. the rate of the reaction $\\ce{A->B}$ is $k_f \\times C_A$\n",
    "and the reverse reaction $\\ce{B->A}$ is $k_r \\times C_B$\n",
    "where $C_A$ and $C_B$ are the concentrations of species A and B respectively. \n",
    "In a batch reactor $\\frac{dN_A}{dt} = r_{A(net)} V$, so (dividing through by the reactor volume $V$) $\\frac{dC_A}{dt} = r_{A(net)}$ where $r_{A(net)}$ is the net rate of formation of species A, i.e. $r_{A(net)} = k_r C_B - k_f C_A$.\n",
    "Assume the forward rate coefficient $k_f$ follows Arrhenius form, $k_f = A \\exp\\left(\\frac{-E_A}{R T}\\right)$ where $A$ is the \"pre-exponential factor\" and $E_A$ is the activation energy.\n",
    "\n",
    "Fortunately, in this case you have good reason to believe that species A and B have very similar temperature-dependent heat capacities, so that $\\Delta H_{rxn}$ and $\\Delta S_{rxn}$ are independent of temperature.\n",
    "\n",
    "You start the experiment with no B ($C_B=0$), and at time zero have some way to initiate the reaction, starting with a set concentration of $C_A$. \n",
    "\n",
    "You wish to determine the four paramaters:\n",
    "$log_{10} A$,\n",
    "$E_A$,\n",
    "$\\Delta H_{rxn}$,\n",
    "$\\Delta S_{rxn}$.\n",
    "\n",
    "Based on a literature search, quantum chemistry calculations, and prior experience, your current estimates are as follows:\n",
    "```\n",
    "logA = 6.  # base-ten logarithm of A in s^-1\n",
    "Ea = 45.   # Ea in kJ/mol\n",
    "dH = -10.  # ∆H in kJ/mol\n",
    "dS = -50.  # ∆S in J/mol/K\n",
    "```\n"
   ]
  },
  {
   "cell_type": "code",
   "execution_count": 2,
   "metadata": {
    "collapsed": true
   },
   "outputs": [],
   "source": [
    "%matplotlib inline\n",
    "import numpy as np\n",
    "import scipy.integrate\n",
    "from matplotlib import pyplot as plt\n",
    "from scipy.integrate import odeint\n",
    "\n",
    "import random\n",
    "import SALib as sa\n",
    "import SALib.sample\n",
    "# from SALib.sample import morris as ms\n",
    "# from SALib.analyze import morris as ma\n",
    "# from SALib.plotting import morris as mp"
   ]
  },
  {
   "cell_type": "code",
   "execution_count": 3,
   "metadata": {
    "collapsed": true
   },
   "outputs": [],
   "source": [
    "# This cell just tries to make graphs look nicer\n",
    "try:\n",
    "    import seaborn as sns\n",
    "except ImportError:\n",
    "    # This block will be run if there's an ImportError, i.e you don't have seaborn installed.\n",
    "    sns = False\n",
    "    print (\"If you want to try different figure formatting, \"\n",
    "           \"type 'conda install seaborn' at an anaconda command prompt or terminal. \"\n",
    "           \"See https://stanford.edu/~mwaskom/software/seaborn/ for details\")\n",
    "    # If not using seaborn, we can still control the size of the figures this way\n",
    "    from pylab import rcParams\n",
    "    rcParams['figure.figsize'] = 3, 3\n",
    "else:\n",
    "    # This block will be run if there is no ImportError\n",
    "    sns.set_style(\"ticks\")\n",
    "    sns.set_context(\"paper\",rc={\"figure.figsize\": (2, 2)})"
   ]
  },
  {
   "cell_type": "markdown",
   "metadata": {},
   "source": [
    "We create a \"named tuple\" data type to store the exprimental data in."
   ]
  },
  {
   "cell_type": "code",
   "execution_count": 4,
   "metadata": {
    "collapsed": false
   },
   "outputs": [],
   "source": [
    "from collections import namedtuple\n",
    "ExperimentData = namedtuple('ExperimentData', ['T', 'cA_start', 'times', 'cA'])\n",
    "\n",
    "def plot_experiment(e):\n",
    "    \"\"\"\n",
    "    Plots the experimental data provided in 'e' \n",
    "    which should be of the type ExperimentData.\n",
    "    \"\"\"\n",
    "    plt.plot(0, e.cA_start, 'ko')\n",
    "    plt.plot(e.times, e.cA,':o', label=\"T={:.0f}K\".format(e.T))\n",
    "    plt.ylim(0,)\n",
    "    plt.ylabel('$C_A$ (mol/L)')\n",
    "    plt.xlabel('time (s)')\n",
    "    plt.legend()"
   ]
  },
  {
   "cell_type": "markdown",
   "metadata": {},
   "source": [
    "Now here are the data from your three experiments:"
   ]
  },
  {
   "cell_type": "code",
   "execution_count": 5,
   "metadata": {
    "collapsed": false
   },
   "outputs": [
    {
     "name": "stdout",
     "output_type": "stream",
     "text": [
      "Experiment 0 was at T=298.15K and ran for 100 seconds\n",
      "Experiment 1 was at T=308.15K and ran for 100 seconds\n",
      "Experiment 2 was at T=323.15K and ran for 100 seconds\n"
     ]
    },
    {
     "data": {
      "image/png": "[encoded data removed]",
      "text/plain": [
       "<matplotlib.figure.Figure at 0x116d96860>"
      ]
     },
     "metadata": {},
     "output_type": "display_data"
    }
   ],
   "source": [
    "from numpy import array\n",
    "experiments = [ExperimentData(T=298.15, \n",
    "                              cA_start=10.0, \n",
    "                              times=array([ 10,  20,  30,  40,  50,  60,  70,  80,  90, 100]), \n",
    "                              cA=array([ 8.649,  7.441,  7.141,  6.366,  6.215, 5.990, 5.852,  5.615,  5.481 ,  5.644])), \n",
    "               ExperimentData(T=308.15, \n",
    "                              cA_start=10.0, \n",
    "                              times=array([ 10,  20,  30,  40,  50,  60,  70,  80,  90, 100]), \n",
    "                              cA=array([ 7.230,  6.073,  5.452,  5.317,  5.121, 4.998,  4.951,  4.978,  5.015,  5.036])), \n",
    "               ExperimentData(T=323.15, \n",
    "                              cA_start=10.0, \n",
    "                              times=array([ 10,  20,  30,  40,  50,  60,  70,  80,  90, 100]), \n",
    "                              cA=array([ 5.137,  4.568,  4.548,  4.461,  4.382, 4.525,  4.483,  4.565,  4.459,  4.635])),\n",
    "              ]\n",
    "\n",
    "for i,e in enumerate(experiments):\n",
    "    print(\"Experiment {} was at T={}K and ran for {} seconds\".format(i, e.T, e.times[-1]))\n",
    "    plot_experiment(e)"
   ]
  },
  {
   "cell_type": "code",
   "execution_count": 6,
   "metadata": {
    "collapsed": false
   },
   "outputs": [],
   "source": [
    "ParameterSet = namedtuple('ParameterSet', ['logA', 'Ea', 'dH', 'dS'])\n",
    "\n",
    "# This is a sensible starting guess for your fitting\n",
    "starting_guess = ParameterSet(\n",
    "    logA = 6. , # base-ten logarithm of A in s^-1\n",
    "    Ea = 45. , # Ea in kJ/mol\n",
    "    dH = -10. , # ∆H in kJ/mol\n",
    "    dS = -50.  # ∆S in J/mol/K\n",
    "    )\n",
    "\n",
    "# This should end up with your optimized parameters\n",
    "optimized_parameters = ParameterSet(0,0,0,0)\n",
    "\n",
    "\n",
    "# This should end up with your standard errors (one sigma)\n",
    "# for the uncertainties in the fitted parameters.\n",
    "# i.e. there should be a 68% chance the true value is \n",
    "# at least this close to your optimized parameter.\n",
    "standard_errors = ParameterSet(0,0,0,0)\n"
   ]
  },
  {
   "cell_type": "markdown",
   "metadata": {},
   "source": [
    "Ok, now insert some cells to determine the optimized_parameters and their standard_errors."
   ]
  },
  {
   "cell_type": "code",
   "execution_count": 12,
   "metadata": {
    "collapsed": false
   },
   "outputs": [
    {
     "data": {
      "image/png": "[encoded data removed]",
      "text/plain": [
       "<matplotlib.figure.Figure at 0x119829b00>"
      ]
     },
     "metadata": {},
     "output_type": "display_data"
    },
    {
     "name": "stdout",
     "output_type": "stream",
     "text": [
      "[  6.16989940e+00   4.48028506e+04  -1.09607177e+04  -3.56872975e+01]\n",
      "[  3.17716648e+00   1.83576803e+04   2.52983014e+03   7.90557904e+00]\n"
     ]
    }
   ],
   "source": [
    "# Finish your notebook with this cell\n",
    "\n",
    "# I didn't integrate the equation, but directly fitted the data using the rate equation of reactant A.\n",
    "def fitting_function(X, log_A, E_A, d_H, d_S):\n",
    "    C_A, T, C_A0 = X\n",
    "# use the given equations to express dC_A/dt\n",
    "    dC_Adt = (10**log_A)*(np.exp(-E_A/(8.314*T)))*((C_A0-C_A)*np.exp(-(d_H-T*d_S)/(8.314*T))-C_A)\n",
    "    return dC_Adt\n",
    "\n",
    "# put all the experimental data together in one array (X) for the fitting, makeing T and C_A0 the same number as C_A\n",
    "X_data = np.array([np.concatenate([experiments[0][3][1:],experiments[1][3][1:],experiments[2][3][1:]]),\n",
    "                  np.concatenate([experiments[0][0]*np.ones(len(experiments[0][3][1:]-1)),\n",
    "                   experiments[1][0]*np.ones(len(experiments[1][3][1:]-1)),\n",
    "                   experiments[2][0]*np.ones(len(experiments[2][3][1:]-1))]),\n",
    "                  np.concatenate([experiments[0][1]*np.ones(len(experiments[0][3][1:]-1)),\n",
    "                   experiments[1][1]*np.ones(len(experiments[1][3][1:]-1)),\n",
    "                   experiments[2][1]*np.ones(len(experiments[2][3][1:]-1))])])\n",
    "\n",
    "# calculate dC_A/dt (this may not be accurate) for each run and put them together in one array (Y)\n",
    "Y_data = np.array(np.concatenate([np.diff(experiments[0][3])/np.diff(experiments[0][2]), \n",
    "                   np.diff(experiments[1][3])/np.diff(experiments[1][2]), \n",
    "                   np.diff(experiments[2][3])/np.diff(experiments[2][2])]))\n",
    "\n",
    "# initial_guess = [6., 45000., -10000., -50.]\n",
    "\n",
    "optimal_parameters, covariance = scipy.optimize.curve_fit(fitting_function, X_data, Y_data)\n",
    "\n",
    "standard_errors = np.sqrt(np.diag(covariance))\n",
    "\n",
    "log_A = optimal_parameters[0]\n",
    "E_A = optimal_parameters[1]\n",
    "d_H = optimal_parameters[2]\n",
    "d_S = optimal_parameters[3]\n",
    "\n",
    "# use odeint to plot the fitted lines\n",
    "for i in range(3):\n",
    "    def odeint_function(variable, time):\n",
    "        C_A = variable\n",
    "        dC_Adt = (10**log_A)*(np.exp(-E_A/(8.314*experiments[i][0])))*((experiments[i][1]-C_A)*np.exp(-(d_H-experiments[i][0]*d_S)/(8.314*experiments[i][0]))-C_A)\n",
    "        return dC_Adt\n",
    "\n",
    "    times = np.arange(0, 100)\n",
    "    initial_condition = (10)\n",
    "    fitting = odeint(odeint_function, initial_condition, times)\n",
    "    \n",
    "    plt.plot(times, fitting)\n",
    "    plt.plot(experiments[i][2],experiments[i][3],'o')\n",
    "\n",
    "plt.show()\n",
    "\n",
    "# print(starting_guess)\n",
    "print(optimal_parameters)\n",
    "print(standard_errors)"
   ]
  },
  {
   "cell_type": "code",
   "execution_count": 8,
   "metadata": {
    "collapsed": true
   },
   "outputs": [],
   "source": [
    "# Doesn't look so good for T=298.15K, and the standard erros are very big... Should get better result if\n",
    "# integrating the equation and then fitting the data. It seems my code doesn't requre an initial guess..."
   ]
  }
 ],
 "metadata": {
  "anaconda-cloud": {},
  "kernelspec": {
   "display_name": "Python [conda root]",
   "language": "python",
   "name": "conda-root-py"
  },
  "language_info": {
   "codemirror_mode": {
    "name": "ipython",
    "version": 3
   },
   "file_extension": ".py",
   "mimetype": "text/x-python",
   "name": "python",
   "nbconvert_exporter": "python",
   "pygments_lexer": "ipython3",
   "version": "3.5.2"
  }
 },
 "nbformat": 4,
 "nbformat_minor": 1
}
